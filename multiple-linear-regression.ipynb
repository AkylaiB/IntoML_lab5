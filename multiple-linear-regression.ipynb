{
 "cells": [
  {
   "cell_type": "code",
   "execution_count": 1,
   "metadata": {},
   "outputs": [],
   "source": [
    "import pandas as pd\n",
    "import numpy as np\n",
    "import matplotlib.pyplot as plt\n",
    "from sklearn.linear_model import LinearRegression"
   ]
  },
  {
   "cell_type": "code",
   "execution_count": 2,
   "metadata": {},
   "outputs": [
    {
     "name": "stdout",
     "output_type": "stream",
     "text": [
      "[[ 0.5 22. ]\n",
      " [ 0.  21. ]\n",
      " [ 1.  23. ]\n",
      " [ 5.  25. ]\n",
      " [ 8.  28. ]\n",
      " [ 4.  23. ]\n",
      " [15.  35. ]\n",
      " [ 7.  29. ]\n",
      " [ 3.  22. ]\n",
      " [ 2.  23. ]\n",
      " [12.  32. ]\n",
      " [10.  30. ]\n",
      " [14.  34. ]\n",
      " [ 6.  27. ]]\n"
     ]
    }
   ],
   "source": [
    "df = pd.read_csv(\"C:/Users/ASUS/Desktop/IntoMachineLearning/week5/multiple-linear-regression-dataset.csv\",sep = \";\")\n",
    "\n",
    "x = df.iloc[:,[0,2]].values #experience and age\n",
    "y = df.salary.values.reshape(-1,1)\n",
    "\n",
    "print(x)"
   ]
  },
  {
   "cell_type": "code",
   "execution_count": 3,
   "metadata": {},
   "outputs": [
    {
     "name": "stdout",
     "output_type": "stream",
     "text": [
      "b0:  [10376.62747228]\n",
      "b1,b2:  [[1525.50072054 -416.72218625]]\n"
     ]
    }
   ],
   "source": [
    "# %% fitting data\n",
    "multiple_linear_regression = LinearRegression()\n",
    "multiple_linear_regression.fit(x,y)\n",
    "\n",
    "print(\"b0: \", multiple_linear_regression.intercept_)\n",
    "print(\"b1,b2: \",multiple_linear_regression.coef_)\n",
    "\n"
   ]
  },
  {
   "cell_type": "code",
   "execution_count": 4,
   "metadata": {},
   "outputs": [
    {
     "data": {
      "text/plain": [
       "array([[11046.35815877],\n",
       "       [ 3418.85455609]])"
      ]
     },
     "execution_count": 4,
     "metadata": {},
     "output_type": "execute_result"
    }
   ],
   "source": [
    "# predict\n",
    "multiple_linear_regression.predict(np.array([[10,35],[5,35]]))"
   ]
  },
  {
   "cell_type": "code",
   "execution_count": null,
   "metadata": {},
   "outputs": [],
   "source": []
  }
 ],
 "metadata": {
  "kernelspec": {
   "display_name": "Python 3 (ipykernel)",
   "language": "python",
   "name": "python3"
  },
  "language_info": {
   "codemirror_mode": {
    "name": "ipython",
    "version": 3
   },
   "file_extension": ".py",
   "mimetype": "text/x-python",
   "name": "python",
   "nbconvert_exporter": "python",
   "pygments_lexer": "ipython3",
   "version": "3.11.3"
  }
 },
 "nbformat": 4,
 "nbformat_minor": 2
}
